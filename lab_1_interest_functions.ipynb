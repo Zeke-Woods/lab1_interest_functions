{
  "cells": [
    {
      "cell_type": "markdown",
      "metadata": {
        "id": "view-in-github",
        "colab_type": "text"
      },
      "source": [
        "<a href=\"https://colab.research.google.com/github/Zeke-Woods/lab1_interest_functions/blob/master/lab_1_interest_functions.ipynb\" target=\"_parent\"><img src=\"https://colab.research.google.com/assets/colab-badge.svg\" alt=\"Open In Colab\"/></a>"
      ]
    },
    {
      "cell_type": "markdown",
      "metadata": {
        "id": "1V-gExabebKB"
      },
      "source": [
        "## Lab 1 - Compound Interest Functions\n",
        "\n",
        "Below you will find a table of important formulae related to compound interest.  \n",
        "\n",
        "<img src=\"https://www.dummies.com/wp-content/uploads/251689.image0.jpg\" alt=\"image0.jpg\" width=\"400\" height=\"319\">\n",
        "\n",
        "In this lab, you will create functions for each of these using (and documenting) the following workflow.\n",
        "\n",
        "1. Work out the correct answer for a few examples. *Hint* Search for e.g. \"worked out compound interest examples\" on the web.\n",
        "2. Write a `lambda` function and test this function on your test cases.\n",
        "3. Convert the `lambda` function to a `def` statement with an informative doc string that follows the [Google formating rules](https://google.github.io/styleguide/pyguide.html#383-functions-and-methods).\n",
        "4. Write an automated test function (using your previous examples) that will test your `def` statement function each time the code is executed."
      ]
    },
    {
      "cell_type": "markdown",
      "metadata": {
        "id": "qzAmo4yGebKh"
      },
      "source": [
        "#### Problem 1 -- Apply the process to create a simple interest functions."
      ]
    },
    {
      "cell_type": "code",
      "execution_count": null,
      "metadata": {
        "id": "gAqoypJ4ebKv",
        "outputId": "03a976ab-d583-4979-a99e-d3d501f299db",
        "colab": {
          "base_uri": "https://localhost:8080/"
        }
      },
      "outputs": [
        {
          "output_type": "execute_result",
          "data": {
            "text/plain": [
              "60.0"
            ]
          },
          "metadata": {},
          "execution_count": 1
        }
      ],
      "source": [
        "#step 1\n",
        "principle = 100\n",
        "interest = .05\n",
        "time = 12\n",
        "principle*interest*time"
      ]
    },
    {
      "cell_type": "code",
      "source": [
        "#step 2\n",
        "simpint = lambda p, i, t: p*i*t\n",
        "simpint(100, .05, 12)"
      ],
      "metadata": {
        "colab": {
          "base_uri": "https://localhost:8080/"
        },
        "id": "B7xXxEPvgDex",
        "outputId": "fdaa6d62-8f42-43f1-cc20-d3aaae1f9d27"
      },
      "execution_count": null,
      "outputs": [
        {
          "output_type": "execute_result",
          "data": {
            "text/plain": [
              "60.0"
            ]
          },
          "metadata": {},
          "execution_count": 2
        }
      ]
    },
    {
      "cell_type": "code",
      "source": [
        "#step 3\n",
        "def simpint(principle, interest, time):\n",
        "  \"\"\"gives the simple interest given the principle interest and time\n",
        "  \n",
        "     Args: \n",
        "          principle: the starting amount of money\n",
        "          interest: the given interest\n",
        "          time: the amount of time in years\n",
        "          \n",
        "      Returns: \n",
        "          the amount made off interest\"\"\"\n",
        "  output = principle*interest*time\n",
        "  return output\n",
        "\n",
        "def testsimp():\n",
        "  assert simpint(100, .05, 12) == 60\n",
        "  assert simpint(100, .2, 4) == 80\n",
        "\n",
        "testsimp()"
      ],
      "metadata": {
        "id": "tnexyhlRi6I7"
      },
      "execution_count": null,
      "outputs": []
    },
    {
      "cell_type": "markdown",
      "metadata": {
        "id": "wwFIAPxVebK3"
      },
      "source": [
        "#### Problem 2 -- Apply the process to create a compound interest functions."
      ]
    },
    {
      "cell_type": "code",
      "execution_count": null,
      "metadata": {
        "id": "dwoLRpt0ebK4",
        "colab": {
          "base_uri": "https://localhost:8080/"
        },
        "outputId": "a453ae3c-b364-44a0-bda6-3525d6eaee95"
      },
      "outputs": [
        {
          "output_type": "execute_result",
          "data": {
            "text/plain": [
              "123.29041805512743"
            ]
          },
          "metadata": {},
          "execution_count": 10
        }
      ],
      "source": [
        "#step 1\n",
        "principle = 100\n",
        "rate = .03\n",
        "compounds = 5\n",
        "years = 7\n",
        "principle*(1 + (rate / compounds))**(compounds * years)"
      ]
    },
    {
      "cell_type": "code",
      "source": [
        "#step 2\n",
        "comp = lambda p, r, n, t: p*(1+(r/n))**(n*t)\n",
        "comp(100, .01, 6, 12)"
      ],
      "metadata": {
        "colab": {
          "base_uri": "https://localhost:8080/"
        },
        "id": "P05bpqw5kF9C",
        "outputId": "a7e80427-44be-4324-a402-297b2542685a"
      },
      "execution_count": null,
      "outputs": [
        {
          "output_type": "execute_result",
          "data": {
            "text/plain": [
              "112.73842326400523"
            ]
          },
          "metadata": {},
          "execution_count": 13
        }
      ]
    },
    {
      "cell_type": "code",
      "source": [
        "#step 3\n",
        "def comp(p, r, n, t):\n",
        "  \"\"\"computes compound interest \n",
        "  \n",
        "  Args: principle(p), rate(r), compoundings(n),  years(t)\n",
        "  \n",
        "  Returns: amount made off compound interest\"\"\"\n",
        "  output =  p*(1+(r/n))**(n*t)\n",
        "  return output\n",
        "\n",
        "def testcomp():\n",
        "  assert comp(100, 1, 1, 1) == 200\n",
        "  assert comp(100, 0, 2, 5) == 100 "
      ],
      "metadata": {
        "id": "IRLIv9wSkVjy"
      },
      "execution_count": 1,
      "outputs": []
    },
    {
      "cell_type": "markdown",
      "metadata": {
        "id": "tHHcBZOgebK5"
      },
      "source": [
        "#### Problem 3 -- Apply the process to create a amortized loan payment function."
      ]
    },
    {
      "cell_type": "code",
      "execution_count": null,
      "metadata": {
        "id": "WuWp9_-BebK7",
        "colab": {
          "base_uri": "https://localhost:8080/"
        },
        "outputId": "84509bb2-357f-4f51-d813-658eab3c36da"
      },
      "outputs": [
        {
          "output_type": "execute_result",
          "data": {
            "text/plain": [
              "13.147377688737217"
            ]
          },
          "metadata": {},
          "execution_count": 16
        }
      ],
      "source": [
        "#step 1\n",
        "borrowed = 100\n",
        "interest = .1\n",
        "npayment = 15\n",
        "(borrowed*interest)/(1-(1+interest)**(-1 * npayment))"
      ]
    },
    {
      "cell_type": "code",
      "source": [
        "#step 2\n",
        "loanpay = lambda P, i, n: (P*i) / (1-(1+i)**(-1*n))\n",
        "loanpay(100,.1,15)"
      ],
      "metadata": {
        "colab": {
          "base_uri": "https://localhost:8080/"
        },
        "id": "qbVjcfhenTy3",
        "outputId": "de8b95c7-25e0-4c50-d421-34d2e4f37d38"
      },
      "execution_count": null,
      "outputs": [
        {
          "output_type": "execute_result",
          "data": {
            "text/plain": [
              "13.147377688737217"
            ]
          },
          "metadata": {},
          "execution_count": 17
        }
      ]
    },
    {
      "cell_type": "code",
      "source": [
        "#step 3\n",
        "def loanpay(P, i, n): \n",
        "  \"\"\"calculates loan payments\n",
        "   \n",
        "  Args:ammount borrowed(P), interest(i), number of payments(n)\n",
        "\n",
        "  Returns: Payments for loan \n",
        "  \"\"\"\n",
        "  output = (P*i) / (1-(1+i)**(-1*n))\n",
        "  return output\n",
        "\n",
        "def testloan():\n",
        "  assert loanpay(100, -1, -1) == -100\n",
        "  assert loanpay(0, 1000, 2000) == 0\n",
        "\n",
        "testloan()"
      ],
      "metadata": {
        "id": "j5etwzZqnpYr"
      },
      "execution_count": 2,
      "outputs": []
    },
    {
      "cell_type": "markdown",
      "metadata": {
        "id": "zoPtzQv-ebK-"
      },
      "source": [
        "#### Problem 4 -- Apply the process to create a remaining balance function"
      ]
    },
    {
      "cell_type": "code",
      "execution_count": null,
      "metadata": {
        "id": "c-zV_ZicebLA",
        "colab": {
          "base_uri": "https://localhost:8080/"
        },
        "outputId": "8a7557a8-5046-44da-e484-1f6544b7d744"
      },
      "outputs": [
        {
          "output_type": "execute_result",
          "data": {
            "text/plain": [
              "55.55555555555556"
            ]
          },
          "metadata": {},
          "execution_count": 29
        }
      ],
      "source": [
        "#step 1\n",
        "regpay = 50\n",
        "interest = .5\n",
        "npay = 5\n",
        "xpay = 3\n",
        "regpay * ((1 - (1 + interest)**(-(npay-xpay)))/interest)"
      ]
    },
    {
      "cell_type": "code",
      "source": [
        "#step 2\n",
        "balancefunc = lambda R, i, n, x: R*((1-(1+i)**(-(n-x))) / i)\n",
        "balancefunc(50, .5, 5, 3)"
      ],
      "metadata": {
        "colab": {
          "base_uri": "https://localhost:8080/"
        },
        "id": "VnrojGjTqB8j",
        "outputId": "442c6c6a-82d1-4913-fe01-574ea54d9e6a"
      },
      "execution_count": null,
      "outputs": [
        {
          "output_type": "execute_result",
          "data": {
            "text/plain": [
              "55.55555555555556"
            ]
          },
          "metadata": {},
          "execution_count": 30
        }
      ]
    },
    {
      "cell_type": "code",
      "source": [
        "#step 3\n",
        "def balancefunc( R, i, n, x):\n",
        "  \"\"\"calculates remaining balance of a loan\n",
        "  \n",
        "  Args: regular payment(R), interest rate per period(i), number of payments(n),\n",
        "  number of payments already made\n",
        "  \n",
        "  Returns: remaining balance\"\"\"\n",
        "  output = R*((1-(1+i)**(-(n-x))) / i)\n",
        "  return output\n",
        "\n",
        "def testbalance():\n",
        "  assert balancefunc(50, .5, 5, 3) == 55 + (5/9)\n",
        "  assert balancefunc(100, 1, 0, 0) == 0\n",
        "\n",
        "testbalance()"
      ],
      "metadata": {
        "id": "G_d5kmSOqX-T"
      },
      "execution_count": 3,
      "outputs": []
    }
  ],
  "metadata": {
    "kernelspec": {
      "display_name": "Python 3",
      "language": "python",
      "name": "python3"
    },
    "language_info": {
      "codemirror_mode": {
        "name": "ipython",
        "version": 3
      },
      "file_extension": ".py",
      "mimetype": "text/x-python",
      "name": "python",
      "nbconvert_exporter": "python",
      "pygments_lexer": "ipython3",
      "version": "3.7.2"
    },
    "colab": {
      "provenance": [],
      "name": "Copy of lab_1_interest_functions.ipynb",
      "include_colab_link": true
    }
  },
  "nbformat": 4,
  "nbformat_minor": 0
}